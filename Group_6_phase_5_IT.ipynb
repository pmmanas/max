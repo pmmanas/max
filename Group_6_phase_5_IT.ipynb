{
  "nbformat": 4,
  "nbformat_minor": 0,
  "metadata": {
    "colab": {
      "provenance": [],
      "authorship_tag": "ABX9TyOFp7c/a7s4q53kVItpJf95",
      "include_colab_link": true
    },
    "kernelspec": {
      "name": "python3",
      "display_name": "Python 3"
    },
    "language_info": {
      "name": "python"
    }
  },
  "cells": [
    {
      "cell_type": "markdown",
      "metadata": {
        "id": "view-in-github",
        "colab_type": "text"
      },
      "source": [
        "<a href=\"https://colab.research.google.com/github/pmmanas/max/blob/main/Group_6_phase_5_IT.ipynb\" target=\"_parent\"><img src=\"https://colab.research.google.com/assets/colab-badge.svg\" alt=\"Open In Colab\"/></a>"
      ]
    },
    {
      "cell_type": "code",
      "execution_count": 1,
      "metadata": {
        "colab": {
          "base_uri": "https://localhost:8080/"
        },
        "id": "WCr_zgYXV-cE",
        "outputId": "e5fa30dd-9ad2-49d8-810b-1d4f6bf51029"
      },
      "outputs": [
        {
          "output_type": "stream",
          "name": "stdout",
          "text": [
            "Model Accuracy: 100.00%\n",
            "**Flood Risk Detected!**\n",
            "Management Steps:\n",
            "- Issue Public Alerts\n",
            "- Open Evacuation Shelters\n",
            "- Coordinate with Emergency Services\n"
          ]
        }
      ],
      "source": [
        "\n",
        "import pandas as pd\n",
        "from sklearn.model_selection import train_test_split\n",
        "from sklearn.ensemble import RandomForestClassifier\n",
        "from sklearn.metrics import accuracy_score\n",
        "\n",
        "# Sample dataset (synthetic)\n",
        "data = {\n",
        "    \"rainfall\": [100, 200, 150, 80, 90, 300, 400, 50, 60, 220],\n",
        "    \"river_level\": [4, 6, 5.5, 3, 3.5, 7, 8, 2.5, 3, 6.5],\n",
        "    \"humidity\": [90, 95, 85, 70, 65, 98, 99, 55, 60, 96],\n",
        "    \"Flood\": [3, 1, 1, 0, 0, 1, 1, 0, 0, 1]  # Binary classification: 1 = Flood, 0 = No Flood\n",
        "}\n",
        "\n",
        "# Create DataFrame\n",
        "df = pd.DataFrame(data)\n",
        "\n",
        "# Features and labels\n",
        "X = df[['rainfall', 'river_level', 'humidity']]\n",
        "y = df['Flood']\n",
        "\n",
        "# Train-test split\n",
        "X_train, X_test, y_train, y_test = train_test_split(X, y, test_size=0.3, random_state=42)\n",
        "\n",
        "# Model\n",
        "model = RandomForestClassifier(n_estimators=100, random_state=42)\n",
        "model.fit(X_train, y_train)\n",
        "\n",
        "# Prediction and accuracy\n",
        "y_pred = model.predict(X_test)\n",
        "acc = accuracy_score(y_test, y_pred)\n",
        "print(f\"Model Accuracy: {acc * 100:.2f}%\")\n",
        "\n",
        "# New data for prediction\n",
        "new_data = pd.DataFrame({\n",
        "    \"rainfall\": [250],\n",
        "    \"river_level\": [6.2],\n",
        "    \"humidity\": [97]\n",
        "})\n",
        "\n",
        "prediction = model.predict(new_data)\n",
        "\n",
        "# Management Logic\n",
        "if prediction[0] == 1:\n",
        "    print(\"**Flood Risk Detected!**\")\n",
        "    print(\"Management Steps:\\n- Issue Public Alerts\\n- Open Evacuation Shelters\\n- Coordinate with Emergency Services\")\n",
        "else:\n",
        "    print(\"No Flood Risk. Monitor Conditions Regularly.\")"
      ]
    }
  ]
}